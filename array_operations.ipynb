{
 "cells": [
  {
   "cell_type": "code",
   "execution_count": 1,
   "id": "4ad3aba0",
   "metadata": {},
   "outputs": [],
   "source": [
    "import numpy as np"
   ]
  },
  {
   "cell_type": "code",
   "execution_count": 6,
   "id": "5fcb29af",
   "metadata": {},
   "outputs": [
    {
     "data": {
      "text/plain": [
       "37"
      ]
     },
     "execution_count": 6,
     "metadata": {},
     "output_type": "execute_result"
    }
   ],
   "source": [
    "x=np.array([1,2,4,5])\n",
    "y=np.array([1,2,3,4])\n",
    "x.dot(y)\n",
    "#1st method of getting the .product"
   ]
  },
  {
   "cell_type": "code",
   "execution_count": 8,
   "id": "d0a71781",
   "metadata": {},
   "outputs": [
    {
     "data": {
      "text/plain": [
       "59"
      ]
     },
     "execution_count": 8,
     "metadata": {},
     "output_type": "execute_result"
    }
   ],
   "source": [
    "p=np.array([1,2,4])\n",
    "u=np.array([7,8,9])\n",
    "np.dot(u,p)\n",
    "#2nd method of getting the . product"
   ]
  },
  {
   "cell_type": "code",
   "execution_count": 9,
   "id": "371a5a09",
   "metadata": {},
   "outputs": [
    {
     "data": {
      "text/plain": [
       "59"
      ]
     },
     "execution_count": 9,
     "metadata": {},
     "output_type": "execute_result"
    }
   ],
   "source": [
    "p=np.array([1,2,4])\n",
    "u=np.array([7,8,9])\n",
    "p@u\n",
    "#3rd method of getting the .product"
   ]
  },
  {
   "cell_type": "code",
   "execution_count": 10,
   "id": "8b731192",
   "metadata": {},
   "outputs": [
    {
     "data": {
      "text/plain": [
       "10"
      ]
     },
     "execution_count": 10,
     "metadata": {},
     "output_type": "execute_result"
    }
   ],
   "source": [
    "z=np.array([11,10,9])\n",
    "z[1]"
   ]
  },
  {
   "cell_type": "code",
   "execution_count": null,
   "id": "76c37245",
   "metadata": {},
   "outputs": [],
   "source": []
  }
 ],
 "metadata": {
  "kernelspec": {
   "display_name": "Python 3 (ipykernel)",
   "language": "python",
   "name": "python3"
  },
  "language_info": {
   "codemirror_mode": {
    "name": "ipython",
    "version": 3
   },
   "file_extension": ".py",
   "mimetype": "text/x-python",
   "name": "python",
   "nbconvert_exporter": "python",
   "pygments_lexer": "ipython3",
   "version": "3.11.5"
  }
 },
 "nbformat": 4,
 "nbformat_minor": 5
}
